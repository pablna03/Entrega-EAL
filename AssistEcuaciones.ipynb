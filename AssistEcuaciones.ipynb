{
  "nbformat": 4,
  "nbformat_minor": 0,
  "metadata": {
    "colab": {
      "provenance": [],
      "authorship_tag": "ABX9TyMRafcmWOPLjKozC8xKGXtI",
      "include_colab_link": true
    },
    "kernelspec": {
      "name": "python3",
      "display_name": "Python 3"
    },
    "language_info": {
      "name": "python"
    }
  },
  "cells": [
    {
      "cell_type": "markdown",
      "metadata": {
        "id": "view-in-github",
        "colab_type": "text"
      },
      "source": [
        "<a href=\"https://colab.research.google.com/github/pablna03/Entrega-EAL/blob/main/AssistEcuaciones.ipynb\" target=\"_parent\"><img src=\"https://colab.research.google.com/assets/colab-badge.svg\" alt=\"Open In Colab\"/></a>"
      ]
    },
    {
      "cell_type": "code",
      "execution_count": 87,
      "metadata": {
        "id": "q1fe6iz_Bg1O"
      },
      "outputs": [],
      "source": [
        "!pip install bardapi\n",
        "from IPython.display import clear_output\n",
        "clear_output()\n",
        "from bardapi import Bard\n",
        "import os\n",
        "os.environ['_BARD_API_KEY'] = 'dQh73eHMJqf8A-MbbNHdpaQzPZiPbadRC0hj8abpxsW8ii715f4u6BINjQbKDGicNi5cZA.'\n",
        "import sympy as sp\n",
        "import numpy\n",
        "from sympy.abc import x\n",
        "from sympy.polys.polytools import nroots\n",
        "import math\n",
        "import cmath\n",
        "from IPython.display import Image, display\n",
        "import matplotlib.pyplot as plt\n",
        "import matplotlib.image as mpimg"
      ]
    },
    {
      "cell_type": "code",
      "source": [
        "def obtenerOpcion(minimo, maximo, msg):\n",
        "  opcion = minimo - 1\n",
        "  while(opcion == minimo - 1):\n",
        "    try:\n",
        "        opcion = int(input(msg))\n",
        "        if opcion < minimo or opcion > maximo:\n",
        "          print(\"Opción no válida.\")\n",
        "          opcion = minimo - 1\n",
        "    except:\n",
        "        print(\"Opción no válida.\")\n",
        "\n",
        "  return opcion"
      ],
      "metadata": {
        "id": "YKpK1Gb1LnL_"
      },
      "execution_count": 88,
      "outputs": []
    },
    {
      "cell_type": "code",
      "source": [
        "def solucion_lineal(coeficientes):\n",
        "  return [-coeficientes[1] / coeficientes[0]]"
      ],
      "metadata": {
        "id": "JwvOO3sZSYBn"
      },
      "execution_count": 89,
      "outputs": []
    },
    {
      "cell_type": "code",
      "source": [
        "def solucion_cuadratica(coeficientes):\n",
        "  a = coeficientes[0]\n",
        "  b = coeficientes[1]\n",
        "  c = coeficientes[2]\n",
        "\n",
        "  discriminante = b ** 2 - 4 * a * c\n",
        "\n",
        "  if discriminante < 0:\n",
        "    real = -b / (2 * a)\n",
        "    imaginaria = math.sqrt(-discriminante) / (2 * a)\n",
        "    return [complex(real, imaginaria), complex(real, -imaginaria)]\n",
        "  else:\n",
        "    return [(-b + math.sqrt(discriminante)) / (2 * a), (-b - math.sqrt(discriminante)) / (2 * a)]"
      ],
      "metadata": {
        "id": "XgTf-R5Yamhh"
      },
      "execution_count": 90,
      "outputs": []
    },
    {
      "cell_type": "code",
      "source": [
        "def metodo_cardano(coeficientes):\n",
        "  a = coeficientes[1] / coeficientes[0]\n",
        "  b = coeficientes[2] / coeficientes[0]\n",
        "  c = coeficientes[3] / coeficientes[0]\n",
        "\n",
        "  p = (3 * b - a ** 2) / 3\n",
        "  q = (2 * a ** 3 - 9 * a * b + 27 * c) / 27\n",
        "\n",
        "  discriminante = (q / 2) ** 2 + (p / 3) ** 3\n",
        "\n",
        "  tol = 1e-10\n",
        "\n",
        "  if discriminante > tol:\n",
        "    u_cub = - q / 2 + math.sqrt(discriminante)\n",
        "    u = abs(u_cub) ** (1 / 3)\n",
        "    if u_cub < 0:\n",
        "      u = -u\n",
        "\n",
        "    v_cub = - q / 2 - math.sqrt(discriminante)\n",
        "    v = abs(v_cub) ** (1 / 3)\n",
        "    if v_cub < 0:\n",
        "      v = -v\n",
        "\n",
        "    real = - (u + v) / 2 - a / 3\n",
        "    imaginaria = (math.sqrt(3) / 2) * (u - v)\n",
        "\n",
        "    return [u + v - a / 3, complex(real, imaginaria), complex(real, -imaginaria)]\n",
        "\n",
        "  elif discriminante < -tol:\n",
        "    theta = math.acos((- q / 2) / (math.sqrt(-((p / 3) ** 3))))\n",
        "    x = 2 * math.sqrt(-(p / 3))\n",
        "\n",
        "    return [x * math.cos(theta / 3) - a / 3, x * math.cos((theta + 2 * math.pi) / 3) - a / 3, x * math.cos((theta + 4 * math.pi) / 3) - a / 3]\n",
        "\n",
        "  else:\n",
        "    if p == 0 and q == 0:\n",
        "      return [-a / 3, -a / 3, -a / 3]\n",
        "    else:\n",
        "      return [- (3 * q) / (2 * p) - a / 3, - (3 * q) / (2 * p) - a / 3, - (4 * (p ** 2)) / (9 * q) - a / 3]"
      ],
      "metadata": {
        "id": "PYUMdUukeKW-"
      },
      "execution_count": 91,
      "outputs": []
    },
    {
      "cell_type": "code",
      "source": [
        "def metodo_ferrari(coeficientes):\n",
        "  a = coeficientes[1] / coeficientes[0]\n",
        "  b = coeficientes[2] / coeficientes[0]\n",
        "  c = coeficientes[3] / coeficientes[0]\n",
        "  d = coeficientes[4] / coeficientes[0]\n",
        "\n",
        "  p = (8 * b - 3 * a ** 2) / 8\n",
        "  q = (8 * c - 4 * a * b + a ** 3) / 8\n",
        "  r = (256 * d - 64 * a * c + 16 * (a ** 2) * b - 3 * (a ** 4)) / 256\n",
        "\n",
        "  tol = 1e-10\n",
        "\n",
        "  if abs(q) > tol:\n",
        "    P = metodo_cardano([1, - p / 2, -r, (4 * p * r - q ** 2) / 8])[0]\n",
        "    R = cmath.sqrt(P ** 2 - r)\n",
        "    Q = - q / (2 * R)\n",
        "\n",
        "    sq1 = cmath.sqrt(Q ** 2 - 4 * (P - R))\n",
        "    sq2 = cmath.sqrt(Q ** 2 - 4 * (P + R))\n",
        "\n",
        "    roots = [(Q + sq1) / 2 - a / 4, (Q - sq1) / 2 - a / 4, (-Q + sq2) / 2 - a / 4, (-Q - sq2) / 2 - a / 4]\n",
        "    roots = [x.real if x.imag == 0 else x for x in roots]\n",
        "\n",
        "    return roots\n",
        "\n",
        "  else:\n",
        "    t2 = solucion_cuadratica([1, p, r])\n",
        "\n",
        "    sq_t1 = cmath.sqrt(t2[0])\n",
        "    sq_t2 = cmath.sqrt(t2[1])\n",
        "\n",
        "    roots = [sq_t1 - a / 4, -sq_t1 - a / 4, sq_t2 - a / 4, -sq_t2 - a / 4]\n",
        "    roots = [x.real if x.imag == 0 else x for x in roots]\n",
        "\n",
        "    return roots"
      ],
      "metadata": {
        "id": "wIjRhGCtpo8f"
      },
      "execution_count": 92,
      "outputs": []
    },
    {
      "cell_type": "code",
      "source": [
        "def aproximacion_numerica(grado, coeficientes):\n",
        "  if grado == 5:\n",
        "    p = sp.Poly(coeficientes[0]*x**5 + coeficientes[1]*x**4 + coeficientes[2]*x**3 + coeficientes[3]*x**2 + coeficientes[4]*x + coeficientes[5])\n",
        "  elif grado == 6:\n",
        "    p = sp.Poly(coeficientes[0]*x**6 + coeficientes[1]*x**5 + coeficientes[2]*x**4 + coeficientes[3]*x**3 + coeficientes[4]*x**2 + coeficientes[5]*x + coeficientes[6])\n",
        "  elif grado == 7:\n",
        "    p = sp.Poly(coeficientes[0]*x**7 + coeficientes[1]*x**6 + coeficientes[2]*x**5 + coeficientes[3]*x**4 + coeficientes[4]*x**3 + coeficientes[5]*x**2 + coeficientes[6]*x + coeficientes[7])\n",
        "  elif grado == 8:\n",
        "    p = sp.Poly(coeficientes[0]*x**8 + coeficientes[1]*x**7 + coeficientes[2]*x**6 + coeficientes[3]*x**5 + coeficientes[4]*x**4 + coeficientes[5]*x**3 + coeficientes[6]*x**2 + coeficientes[7]*x + coeficientes[8])\n",
        "  elif grado == 9:\n",
        "    p = sp.Poly(coeficientes[0]*x**9 + coeficientes[1]*x**8 + coeficientes[2]*x**7 + coeficientes[3]*x**6 + coeficientes[4]*x**5 + coeficientes[5]*x**4 + coeficientes[6]*x**3 + coeficientes[7]*x**2 + + coeficientes[8]*x + coeficientes[9])\n",
        "  else:\n",
        "    p = sp.Poly(coeficientes[0]*x**10 + coeficientes[1]*x**9 + coeficientes[2]*x**8 + coeficientes[3]*x**7 + coeficientes[4]*x**6 + coeficientes[5]*x**5 + coeficientes[6]*x**4 + coeficientes[7]*x**3 + coeficientes[8]*x**2 + coeficientes[9]*x + coeficientes[10])\n",
        "\n",
        "  roots = nroots(p, n=15, maxsteps=50, cleanup=True)\n",
        "\n",
        "  return roots\n"
      ],
      "metadata": {
        "id": "fewozW_K-Fhj"
      },
      "execution_count": 93,
      "outputs": []
    },
    {
      "cell_type": "code",
      "source": [
        "def obtenerEcuacion(coeficientes, grado):\n",
        "  coeficientes_grados = [(coeficientes[x], grado - x) for x in range(grado + 1)]\n",
        "  ecuacion = \"\"\n",
        "  for coeficiente, g in coeficientes_grados:\n",
        "    if g == 0:\n",
        "      if coeficiente == 0:\n",
        "        ecuacion += \" = 0\"\n",
        "      else:\n",
        "        ecuacion += \" + {} = 0\".format(coeficiente)\n",
        "    elif coeficiente != 0:\n",
        "      nuevo_coeficiente = \"\" if coeficiente == 1 else coeficiente\n",
        "      if g == grado and g == 1:\n",
        "        ecuacion += \"{}x\".format(nuevo_coeficiente, g)\n",
        "      elif g == grado:\n",
        "        ecuacion += \"{}x^{}\".format(nuevo_coeficiente, g)\n",
        "      elif g == 1:\n",
        "        ecuacion += \" + {}x\".format(nuevo_coeficiente)\n",
        "      else:\n",
        "        ecuacion += \" + {}x^{}\".format(nuevo_coeficiente, g)\n",
        "\n",
        "  return ecuacion\n",
        "\n",
        "def obtenerCoeficientes(grado):\n",
        "  letras = [chr(97 + x) for x in range(grado + 1)]\n",
        "  ecuacion = obtenerEcuacion(letras, grado)\n",
        "  print(\"Introduzca los coeficientes para la ecuación\", ecuacion)\n",
        "  coeficientes = []\n",
        "  a = 0\n",
        "  while(a == 0):\n",
        "    coeficientes = []\n",
        "    for letra in letras:\n",
        "      coeficientes.append(obtenerOpcion(float('-inf'), float('inf'), \"{} = \".format(letra)))\n",
        "    a = coeficientes[0]\n",
        "    if a == 0:\n",
        "      print(\"El coeficiente a debe ser distinto que 0\")\n",
        "\n",
        "  return coeficientes\n",
        "\n",
        "def resolver_ecuacion(grado, coeficientes):\n",
        "  if grado == 1:\n",
        "    return solucion_lineal(coeficientes)\n",
        "  elif grado == 2:\n",
        "    return solucion_cuadratica(coeficientes)\n",
        "  elif grado == 3:\n",
        "    return metodo_cardano(coeficientes)\n",
        "  elif grado == 4:\n",
        "    return metodo_ferrari(coeficientes)\n",
        "  else:\n",
        "    return aproximacion_numerica(grado, coeficientes)\n",
        "\n",
        "def obtenerSoluciones():\n",
        "  clear_output()\n",
        "  grado = obtenerOpcion(0, 10, \"Introduzca el grado de la ecuación que desea resolver ([1...10] | [0] para volver a la pantalla anterior): \")\n",
        "\n",
        "  if grado != 0:\n",
        "    coeficientes = obtenerCoeficientes(grado)\n",
        "    soluciones = resolver_ecuacion(grado, coeficientes)\n",
        "\n",
        "    print(\"Las soluciones de la ecuación\", obtenerEcuacion(coeficientes, grado), \"son:\")\n",
        "    for index, solucion in enumerate(soluciones):\n",
        "      print(\"\\tx{} = {}\".format(index, solucion))"
      ],
      "metadata": {
        "id": "ZwUwpLaxJ9b2"
      },
      "execution_count": 94,
      "outputs": []
    },
    {
      "cell_type": "code",
      "source": [
        "def obtenerInformacionHistoria():\n",
        "  clear_output()\n",
        "  print(\"¿De las ecuaciones de qué grado deseas conocer un poco sobre la historia?\")\n",
        "  print(\"\\t1. Ecuaciones lineales (Primer grado)\")\n",
        "  print(\"\\t2. Ecuaciones cuadráticas (Segundo grado)\")\n",
        "  print(\"\\t3. Ecuaciones cúbicas (Tercer grado)\")\n",
        "  print(\"\\t4. Ecuaciones cuárticas (Cuarto grado)\")\n",
        "  print(\"\\t5. Ecuaciones de grado superior\")\n",
        "  print(\"\\t0. Volver a la pantalla anterior\")\n",
        "\n",
        "  opcion = obtenerOpcion(0, 5, \"Opción: \")\n",
        "  if opcion != 0:\n",
        "    if opcion < 5:\n",
        "      print(Bard().get_answer(\"Cuéntame un poco sobre la historia de la resolución por radicales de la ecuación de grado {}. No incluyas la fórmula. (Máximo 200 palabras)\".format(opcion))['content'])\n",
        "    else:\n",
        "      print(Bard().get_answer(\"Cuéntame un poco sobre la historia de la demostración de que no existe una solución por radicales de las ecuaciones de grado mayor o igual que 5. (Máximo 200 palabras)\")['content'])\n"
      ],
      "metadata": {
        "id": "7DUOtYhxX7W9"
      },
      "execution_count": 95,
      "outputs": []
    },
    {
      "cell_type": "code",
      "source": [
        "def mostrarFormulasRadicales():\n",
        "  clear_output()\n",
        "  print(\"¿De las ecuaciones de qué grado deseas conocer la fórmula?\")\n",
        "  print(\"\\t1. Ecuaciones lineales (Primer grado)\")\n",
        "  print(\"\\t2. Ecuaciones cuadráticas (Segundo grado)\")\n",
        "  print(\"\\t3. Ecuaciones cúbicas (Tercer grado)\")\n",
        "  print(\"\\t4. Ecuaciones cuárticas (Cuarto grado)\")\n",
        "  print(\"\\t0. Volver a la pantalla anterior\")\n",
        "\n",
        "  opcion = obtenerOpcion(0, 4, \"Opción: \")\n",
        "  if opcion != 0:\n",
        "    print(\"La fórmula para resolver ecuaciones de grado {} es:\\n\".format(opcion))\n",
        "    ruta_imagen = '/content/Formula_ecuacion_grado_{}.png'.format(opcion)\n",
        "    imagen = mpimg.imread(ruta_imagen)\n",
        "    plt.imshow(imagen)\n",
        "    plt.axis('off')\n",
        "    plt.show()\n",
        "    plt.close()\n",
        "    return"
      ],
      "metadata": {
        "id": "2QifEShWbL84"
      },
      "execution_count": 96,
      "outputs": []
    },
    {
      "cell_type": "code",
      "source": [
        "def assistEcuaciones():\n",
        "\n",
        "  opcion = 1\n",
        "  while(opcion != 0):\n",
        "    print(\"¡Bienvenido a AssistEcuaciones: Plataforma de Resolución Algebraica!\\n\")\n",
        "    print(\" ¿Que desea hacer?\")\n",
        "    print(\"\\t1. Obtener las soluciones de una ecuación\")\n",
        "    print(\"\\t2. Conocer información sobre la historia de la resolución de las ecuaciones\")\n",
        "    print(\"\\t3. Conocer las fórmulas de la resolución por radicales de ecuaciones de hasta cuarto grado\")\n",
        "    print(\"\\t0. Salir\")\n",
        "\n",
        "    opcion = obtenerOpcion(0, 3, \"Opción: \")\n",
        "    if opcion == 1:\n",
        "      obtenerSoluciones()\n",
        "    elif opcion == 2:\n",
        "      obtenerInformacionHistoria()\n",
        "    elif opcion == 3:\n",
        "      mostrarFormulasRadicales()\n",
        "\n",
        "    if opcion != 0:\n",
        "      input(\"Pulse Intro para continuar...\")\n",
        "      clear_output()\n",
        "\n",
        "  print(\"¡Hasta la próxima!\")"
      ],
      "metadata": {
        "id": "grngpMsADOB6"
      },
      "execution_count": 98,
      "outputs": []
    },
    {
      "cell_type": "code",
      "source": [
        "assistEcuaciones()"
      ],
      "metadata": {
        "colab": {
          "base_uri": "https://localhost:8080/"
        },
        "id": "d4en5D99Jc9E",
        "outputId": "a5d094de-f8d1-4150-cb98-763c853346f5"
      },
      "execution_count": 99,
      "outputs": [
        {
          "output_type": "stream",
          "name": "stdout",
          "text": [
            "¡Bienvenido a AssistEcuaciones: Plataforma de Resolución Algebraica!\n",
            "\n",
            " ¿Que desea hacer?\n",
            "\t1. Obtener las soluciones de una ecuación\n",
            "\t2. Conocer información sobre la historia de la resolución de las ecuaciones\n",
            "\t3. Conocer las fórmulas de la resolución por radicales de ecuaciones de hasta cuarto grado\n",
            "\t0. Salir\n",
            "Opción: 0\n",
            "¡Hasta la próxima!\n"
          ]
        }
      ]
    }
  ]
}